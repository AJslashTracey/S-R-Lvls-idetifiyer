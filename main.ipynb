import yfinance as yf
import pandas as pd
import numpy as np
import matplotlib.pyplot as plt
from datetime import datetime

# Fetch BTC-USD data
start_date = datetime(2024, 9, 1)
end_date = datetime(2024, 9, 14)
data = yf.download('BTC-USD', start=start_date, end=end_date)

# Define our functions
def find_support_resistance(data, window):
    highs = data['High'].rolling(window=window, center=True).max()
    lows = data['Low'].rolling(window=window, center=True).min()
    
    support = lows[lows == data['Low']]
    resistance = highs[highs == data['High']]
    
    return support, resistance

def moving_average_levels(data, window):
    ma = data['Close'].rolling(window=window).mean()
    return ma

def fibonacci_levels(high, low):
    diff = high - low
    levels = [0, 0.236, 0.382, 0.5, 0.618, 0.786, 1]
    return [high - l * diff for l in levels]

# Apply the functions
window = 3  # Adjusted for the short time frame
support, resistance = find_support_resistance(data, window)
ma = moving_average_levels(data, window)
fib_levels = fibonacci_levels(data['High'].max(), data['Low'].min())

# Plotting
plt.figure(figsize=(12, 6))
plt.plot(data.index, data['Close'], label='Close Price')
plt.scatter(support.index, support, color='g', label='Support')
plt.scatter(resistance.index, resistance, color='r', label='Resistance')
plt.plot(ma.index, ma, color='orange', label=f'{window}-day MA')
for level in fib_levels:
    plt.axhline(y=level, color='purple', linestyle='--', alpha=0.5)
plt.legend()
plt.title('BTC-USD Support and Resistance Levels')
plt.xlabel('Date')
plt.ylabel('Price (USD)')
plt.show()

# Print Fibonacci levels
print("Fibonacci Levels:")
for i, level in enumerate(fib_levels):
    print(f"Level {i}: {level:.2f}")

# Print some statistics
print("\nBTC-USD Statistics:")
print(f"Start Date: {data.index[0].date()}")
print(f"End Date: {data.index[-1].date()}")
print(f"Lowest Price: ${data['Low'].min():.2f}")
print(f"Highest Price: ${data['High'].max():.2f}")
print(f"Average Price: ${data['Close'].mean():.2f}")
print(f"Price Change: ${data['Close'][-1] - data['Close'][0]:.2f}")
print(f"Percentage Change: {((data['Close'][-1] / data['Close'][0]) - 1) * 100:.2f}%")
