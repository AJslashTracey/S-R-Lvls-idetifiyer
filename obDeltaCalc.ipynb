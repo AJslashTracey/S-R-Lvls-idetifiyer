import ccxt

exchange = ccxt.binance()

symbol = 'BTC/USDT'

ob = exchange.fetch_order_book(symbol=symbol)


total_bid_volume = sum([bid[1] for bid in ob['bids']])
total_ask_volume = sum([ask[1] for ask in ob['asks']])

volume_delta = total_bid_volume - total_ask_volume

print(f"Total Bid Volume: {total_bid_volume}")
print(f"Total Ask Volume: {total_ask_volume}")
print(f"Order Book Delta (Bid - Ask Volume): {volume_delta}")


